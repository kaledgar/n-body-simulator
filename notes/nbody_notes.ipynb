{
 "cells": [
  {
   "cell_type": "markdown",
   "metadata": {},
   "source": [
    "# N body problem\n",
    "\n",
    "According to Newton's law a force of attraction between body $i$ and $j$ can be expressed as\n",
    "\n",
    "$$\n",
    "\\mathbf{F}_{ij}\n",
    "    = \\frac{G m_i m_j}{\\left\\| \\mathbf{r}_j - \\mathbf{r}_i\\right\\| ^ 2} \\frac{\\left(\\mathbf{r}_j - \\mathbf{r}_i\\right)}{\\left\\| \\mathbf{r}_j - \\mathbf{r}_i\\right\\|}\n",
    "$$\n",
    "\n",
    "Resultant force acting on $i$ can be found when summing over all the interactions with $N-1$ bodies \n",
    "\n",
    "$$\n",
    "\\mathbf{F}_{i}\n",
    "    =  \\sum_{j=1 \\atop j \\ne i}^N \\frac{G m_i m_j }{\\left\\| \\mathbf{r}_j - \\mathbf{r}_i\\right\\|^2} \\frac{\\left(\\mathbf{r}_j - \\mathbf{r}_i\\right)}{\\left\\| \\mathbf{r}_j - \\mathbf{r}_i\\right\\|}\n",
    "$$\n",
    "\n",
    "or in explicit differential form\n",
    "\n",
    "$$\n",
    "\\frac{d^2\\mathbf{r}_i}{dt^2}\n",
    "    =  \\sum_{j=1 \\atop j \\ne i}^N \\frac{G m_j }{\\left\\| \\mathbf{r}_j - \\mathbf{r}_i\\right\\|^2} \\frac{\\left(\\mathbf{r}_j - \\mathbf{r}_i\\right)}{\\left\\| \\mathbf{r}_j - \\mathbf{r}_i\\right\\|}\n",
    "$$\n",
    "\n",
    "\n"
   ]
  },
  {
   "cell_type": "code",
   "execution_count": 43,
   "metadata": {},
   "outputs": [],
   "source": [
    "import numpy as np\n",
    "from typing import List, Dict, Tuple, Self\n",
    "from itertools import chain, permutations\n",
    "\n",
    "G = 1"
   ]
  },
  {
   "cell_type": "code",
   "execution_count": 44,
   "metadata": {},
   "outputs": [
    {
     "data": {
      "text/plain": [
       "1.0"
      ]
     },
     "execution_count": 44,
     "metadata": {},
     "output_type": "execute_result"
    }
   ],
   "source": [
    "class Body:\n",
    "    def __init__(\n",
    "        self,\n",
    "        m : float,\n",
    "        r_0 : Tuple[float, float], \n",
    "        v_0 : Tuple[float, float],\n",
    "        name: str = \"body\"\n",
    "    ) -> None:\n",
    "        self.m = m\n",
    "        self.r_0 = r_0\n",
    "        self.x_0 = r_0[0]\n",
    "        self.y_0 = r_0[1]\n",
    "        self.v_0 = v_0\n",
    "        self.vx_0 = v_0[0]\n",
    "        self.vy_0 = v_0[1]\n",
    "        self.name = name\n",
    "\n",
    "    def distance(self, body: Self) -> float:\n",
    "        return np.sqrt((self.x_0 - body.x_0) ** 2 + (self.y_0 - body.y_0) ** 2)\n",
    "\n",
    "earth = Body(\n",
    "    m = 1, \n",
    "    r_0 = (1, 0), \n",
    "    v_0 = (0, np.sqrt(333000)),\n",
    "    name = \"earth\"\n",
    ")\n",
    "sun = Body(\n",
    "    m = 333000, \n",
    "    r_0 = (0, 0),\n",
    "    v_0 = (0, 0),\n",
    "    name = \"sun\"\n",
    ")\n",
    "\n",
    "r_sun_earth = sun.distance(earth)\n",
    "r_sun_earth"
   ]
  },
  {
   "cell_type": "code",
   "execution_count": 51,
   "metadata": {},
   "outputs": [
    {
     "data": {
      "text/plain": [
       "[0, 577.0615218501404, 0, 0]"
      ]
     },
     "execution_count": 51,
     "metadata": {},
     "output_type": "execute_result"
    }
   ],
   "source": [
    "class System:\n",
    "    def __init__(self, *bodies: Body) -> None:\n",
    "        self.bodies = bodies\n",
    "        self.bodies_dict = {body.name : body for body in bodies}\n",
    "\n",
    "    def prepare_system_vector(self):\n",
    "        \"\"\"\n",
    "        s = [\n",
    "            body[0]_positions, body[1]_positions,\n",
    "            body[0]_v, body[1]_v,\n",
    "        ]\n",
    "        \"\"\"\n",
    "        positions = [[body.x_0, body.y_0] for body in self.bodies]\n",
    "        velocities = [[body.vx_0, body.vy_0] for body in self.bodies]\n",
    "        system_vector = list(chain(*positions+velocities))\n",
    "\n",
    "        velocities = [body.v_0 for body in self.bodies]\n",
    "        reduced_rhs_list = [body for body in self.bodies]\n",
    "\n",
    "        dsdt = velocities + reduced_rhs_list\n",
    "        return list(chain(*dsdt))\n",
    "    \n",
    "    @staticmethod\n",
    "    def get_reduced_rhs(body_1 : Body, body_2 : Body):\n",
    "        \"\"\"\n",
    "        calculates m_2 * (r_2 - r_1) / |r_2 - r_1| ^ 3\n",
    "        \"\"\"\n",
    "        return [\n",
    "            body_2.m / body_1.distance(body_2) ** 3 * (body_2.r_0[dimension] - body_1.r_0[dimension])\n",
    "            for dimension \n",
    "            in [0,1]\n",
    "        ]\n",
    "# test           \n",
    "s = System(earth, sun)\n",
    "s.bodies\n",
    "\n",
    "s.bodies_dict\n",
    "\n",
    "s.prepare_system_vector()\n",
    "\n",
    "#s.get_reduced_rhs(earth, sun)\n",
    "\n",
    "\n"
   ]
  }
 ],
 "metadata": {
  "kernelspec": {
   "display_name": "Python 3",
   "language": "python",
   "name": "python3"
  },
  "language_info": {
   "codemirror_mode": {
    "name": "ipython",
    "version": 3
   },
   "file_extension": ".py",
   "mimetype": "text/x-python",
   "name": "python",
   "nbconvert_exporter": "python",
   "pygments_lexer": "ipython3",
   "version": "3.11.2"
  }
 },
 "nbformat": 4,
 "nbformat_minor": 2
}
