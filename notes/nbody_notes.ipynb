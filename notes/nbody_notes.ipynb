{
 "cells": [
  {
   "cell_type": "markdown",
   "metadata": {},
   "source": [
    "# N body problem\n",
    "\n",
    "Some notes and tests for n-body problem solution\n",
    "\n",
    "According to Newton's law a force of attraction between body $i$ and $j$ can be expressed as\n",
    "\n",
    "$$\n",
    "\\mathbf{F}_{ij}\n",
    "    = \\frac{G m_i m_j}{\\left\\| \\mathbf{r}_j - \\mathbf{r}_i\\right\\| ^ 2} \\frac{\\left(\\mathbf{r}_j - \\mathbf{r}_i\\right)}{\\left\\| \\mathbf{r}_j - \\mathbf{r}_i\\right\\|}\n",
    "$$\n",
    "\n",
    "Resultant force acting on $i$ can be found when summing over all the interactions with $N-1$ bodies \n",
    "\n",
    "$$\n",
    "\\mathbf{F}_{i}\n",
    "    =  \\sum_{j=1 \\atop j \\ne i}^N \\frac{G m_i m_j }{\\left\\| \\mathbf{r}_j - \\mathbf{r}_i\\right\\|^2} \\frac{\\left(\\mathbf{r}_j - \\mathbf{r}_i\\right)}{\\left\\| \\mathbf{r}_j - \\mathbf{r}_i\\right\\|}\n",
    "$$\n",
    "\n",
    "or in explicit differential form\n",
    "\n",
    "$$\n",
    "\\frac{d^2\\mathbf{r}_i}{dt^2}\n",
    "    =  \\sum_{j=1 \\atop j \\ne i}^N \\frac{G m_j }{\\left\\| \\mathbf{r}_j - \\mathbf{r}_i\\right\\|^2} \\frac{\\left(\\mathbf{r}_j - \\mathbf{r}_i\\right)}{\\left\\| \\mathbf{r}_j - \\mathbf{r}_i\\right\\|}\n",
    "$$\n",
    "\n",
    "\n"
   ]
  },
  {
   "cell_type": "code",
   "execution_count": 125,
   "metadata": {},
   "outputs": [],
   "source": [
    "import numpy as np\n",
    "from scipy.integrate import odeint\n",
    "from typing import List, Dict, Tuple, Self\n",
    "from itertools import combinations, chain\n",
    "from matplotlib import pyplot as plt\n",
    "from matplotlib import animation\n",
    "from mpl_toolkits.mplot3d import Axes3D\n",
    "import matplotlib.animation\n",
    "\n",
    "G = 1"
   ]
  },
  {
   "cell_type": "code",
   "execution_count": 126,
   "metadata": {},
   "outputs": [
    {
     "data": {
      "text/plain": [
       "1.0"
      ]
     },
     "execution_count": 126,
     "metadata": {},
     "output_type": "execute_result"
    }
   ],
   "source": [
    "class Body:\n",
    "    def __init__(\n",
    "        self,\n",
    "        m : float,\n",
    "        r_0 : Tuple[float, float], \n",
    "        v_0 : Tuple[float, float],\n",
    "        name: str = \"body\"\n",
    "    ) -> None:\n",
    "        self.m = m\n",
    "        self.r_0 = r_0\n",
    "        self.x_0 = r_0[0]\n",
    "        self.y_0 = r_0[1]\n",
    "        self.v_0 = v_0\n",
    "        self.vx_0 = v_0[0]\n",
    "        self.vy_0 = v_0[1]\n",
    "        self.name = name\n",
    "\n",
    "    def distance(self, body: Self) -> float:\n",
    "        return np.sqrt((self.x_0 - body.x_0) ** 2 + (self.y_0 - body.y_0) ** 2)\n",
    "\n",
    "earth = Body(\n",
    "    m = 1, \n",
    "    r_0 = (1, 0), \n",
    "    v_0 = (0, np.sqrt(333000)),\n",
    "    name = \"earth\"\n",
    ")\n",
    "sun = Body(\n",
    "    m = 333000, \n",
    "    r_0 = (0, 0),\n",
    "    v_0 = (0, 0),\n",
    "    name = \"sun\"\n",
    ")\n",
    "pp = Body(\n",
    "    m = 100000,\n",
    "    r_0 = (1, 2),\n",
    "    v_0 = (0, 0),\n",
    "    name = \"pp\"\n",
    ")\n",
    "\n",
    "r_sun_earth = sun.distance(earth)\n",
    "r_sun_earth"
   ]
  }
 ],
 "metadata": {
  "kernelspec": {
   "display_name": "Python 3",
   "language": "python",
   "name": "python3"
  },
  "language_info": {
   "codemirror_mode": {
    "name": "ipython",
    "version": 3
   },
   "file_extension": ".py",
   "mimetype": "text/x-python",
   "name": "python",
   "nbconvert_exporter": "python",
   "pygments_lexer": "ipython3",
   "version": "3.11.2"
  }
 },
 "nbformat": 4,
 "nbformat_minor": 2
}
